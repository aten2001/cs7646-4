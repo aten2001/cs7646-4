{
 "cells": [
  {
   "cell_type": "code",
   "execution_count": 185,
   "metadata": {
    "pycharm": {
     "is_executing": false
    }
   },
   "outputs": [],
   "source": [
    "import sys\n",
    "import numpy as np\n",
    "import pandas as pd\n",
    "import math"
   ]
  },
  {
   "cell_type": "code",
   "execution_count": 186,
   "metadata": {
    "pycharm": {
     "is_executing": false,
     "name": "#%%\n"
    }
   },
   "outputs": [],
   "source": [
    "df = pd.read_csv(\"./Data/Istanbul.csv\", index_col = 'date') \n",
    "data = df.to_numpy()\n",
    "rows = np.random.permutation(data.shape[0])\n",
    "cutoff = int(data.shape[0]*.6)\n",
    "train_data = data[rows[:cutoff],:]\n",
    "test_data = data[rows[cutoff:], :]\n",
    "trainX = train_data[:,:-1]\n",
    "trainY = train_data[:,-1]\n",
    "testX = test_data[:, :-1]\n",
    "testY = test_data[:, -1]"
   ]
  },
  {
   "cell_type": "code",
   "execution_count": 188,
   "metadata": {},
   "outputs": [
    {
     "data": {
      "text/plain": [
       "((321, 8), (321,))"
      ]
     },
     "execution_count": 188,
     "metadata": {},
     "output_type": "execute_result"
    }
   ],
   "source": [
    "trainX.shape, trainY.shape"
   ]
  },
  {
   "cell_type": "code",
   "execution_count": 189,
   "metadata": {},
   "outputs": [],
   "source": [
    "def getBestFeatureToSplit(data):\n",
    "    df = pd.DataFrame(data)\n",
    "    return df.corr().iloc[:,-1][:-1].idxmax()"
   ]
  },
  {
   "cell_type": "code",
   "execution_count": 209,
   "metadata": {
    "pycharm": {
     "is_executing": false
    }
   },
   "outputs": [],
   "source": [
    "def buildTree(data):\n",
    "    if data.shape[0] == 1:\n",
    "        return np.array([np.nan, data[0,-1], np.nan. np.nan]).reshape((1, -1))\n",
    "    if isYSame(data):\n",
    "        return np.array([np.nan, data[0,-1], np.nan. np.nan]).reshape((1, -1))\n",
    "    if isXSame(data):\n",
    "        return np.array([np.nan, np.mean(data[:,-1]), np.nan, np.nan]).reshape((1, -1))\n",
    "    feature = getBestFeatureToSplit(data)\n",
    "    sv = getSplitVal(data, feature)\n",
    "    left = buildTree(data[data[:,feature] <= sv])\n",
    "    right = buildTree(data[data[:,feature] > sv])\n",
    "    root = np.array([feature, sv, 1, left.shape[0]])\n",
    "    tree = np.concatenate((root.reshape(1,-1), left, right))\n",
    "    return tree"
   ]
  },
  {
   "cell_type": "code",
   "execution_count": 191,
   "metadata": {},
   "outputs": [],
   "source": [
    "def isYSame(data):\n",
    "    y = data[:,-1]\n",
    "    if y[y[0] == y].shape[0] == y.shape[0]:\n",
    "        return True\n",
    "    return False"
   ]
  },
  {
   "cell_type": "code",
   "execution_count": 192,
   "metadata": {},
   "outputs": [],
   "source": [
    "def isXSame(data):\n",
    "    x = data[:, :-1]\n",
    "    if x[x[0] == x].size == x.size:\n",
    "        return True\n",
    "    return False"
   ]
  },
  {
   "cell_type": "code",
   "execution_count": 207,
   "metadata": {
    "pycharm": {
     "is_executing": false
    }
   },
   "outputs": [],
   "source": [
    "# def getPred(point):\n",
    "#     idx = 0\n",
    "#     while not math.isnan(self.tree[idx, 0]):\n",
    "#         if point[self.tree[idx, 0]] <= self.tree[idx, 1]:\n",
    "#             idx = idx + int(self.tree[idx, 2])\n",
    "#         else:\n",
    "#             idx = idx + int(self.tree[idx, 3])\n",
    "#     return self.tree[idx, 1]"
   ]
  },
  {
   "cell_type": "code",
   "execution_count": 208,
   "metadata": {
    "pycharm": {
     "is_executing": false
    }
   },
   "outputs": [],
   "source": [
    "# def query(points):\n",
    "#     predictions = []\n",
    "#     for i in range(points.shape[0]):\n",
    "#         predictions.append(self.getPred(points[i]))\n",
    "#     return np.array(predictions)"
   ]
  },
  {
   "cell_type": "code",
   "execution_count": 203,
   "outputs": [],
   "source": [
    "def getSplitVal(data, feature):\n",
    "    return np.median(data[:, feature])"
   ],
   "metadata": {
    "collapsed": false,
    "pycharm": {
     "name": "#%%\n",
     "is_executing": false
    }
   }
  },
  {
   "cell_type": "code",
   "execution_count": 204,
   "metadata": {
    "pycharm": {
     "is_executing": false
    }
   },
   "outputs": [],
   "source": [
    "data = np.concatenate((trainX, trainY.reshape(-1, 1)), axis=1)"
   ]
  },
  {
   "cell_type": "code",
   "execution_count": 211,
   "metadata": {
    "pycharm": {
     "is_executing": false
    }
   },
   "outputs": [],
   "source": [
    "tree = buildTree(data)"
   ]
  },
  {
   "cell_type": "code",
   "execution_count": 199,
   "metadata": {},
   "outputs": [
    {
     "data": {
      "text/plain": [
       "array([[       nan, 0.00069373,        nan,        nan]])"
      ]
     },
     "execution_count": 199,
     "metadata": {},
     "output_type": "execute_result"
    }
   ],
   "source": [
    "tree"
   ]
  },
  {
   "cell_type": "code",
   "execution_count": null,
   "metadata": {},
   "outputs": [],
   "source": []
  }
 ],
 "metadata": {
  "kernelspec": {
   "display_name": "Python 3",
   "language": "python",
   "name": "python3"
  },
  "language_info": {
   "codemirror_mode": {
    "name": "ipython",
    "version": 3
   },
   "file_extension": ".py",
   "mimetype": "text/x-python",
   "name": "python",
   "nbconvert_exporter": "python",
   "pygments_lexer": "ipython3",
   "version": "3.7.4"
  },
  "pycharm": {
   "stem_cell": {
    "cell_type": "raw",
    "source": [],
    "metadata": {
     "collapsed": false
    }
   }
  }
 },
 "nbformat": 4,
 "nbformat_minor": 1
}